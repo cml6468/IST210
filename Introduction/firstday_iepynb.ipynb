{
  "nbformat": 4,
  "nbformat_minor": 0,
  "metadata": {
    "colab": {
      "name": "firstday.iepynb",
      "provenance": [],
      "authorship_tag": "ABX9TyMfdE88mIi3RtbCPoIEmrAK",
      "include_colab_link": true
    },
    "kernelspec": {
      "name": "python3",
      "display_name": "Python 3"
    }
  },
  "cells": [
    {
      "cell_type": "markdown",
      "metadata": {
        "id": "view-in-github",
        "colab_type": "text"
      },
      "source": [
        "<a href=\"https://colab.research.google.com/github/colentz10/IST210/blob/master/Introduction/firstday_iepynb.ipynb\" target=\"_parent\"><img src=\"https://colab.research.google.com/assets/colab-badge.svg\" alt=\"Open In Colab\"/></a>"
      ]
    },
    {
      "cell_type": "code",
      "metadata": {
        "id": "aArSsgXmzCuH",
        "colab_type": "code",
        "colab": {
          "base_uri": "https://localhost:8080/",
          "height": 34
        },
        "outputId": "22eea9d3-9f02-476e-f479-b6dee78aea69"
      },
      "source": [
        "2+2"
      ],
      "execution_count": 5,
      "outputs": [
        {
          "output_type": "execute_result",
          "data": {
            "text/plain": [
              "4"
            ]
          },
          "metadata": {
            "tags": []
          },
          "execution_count": 5
        }
      ]
    },
    {
      "cell_type": "markdown",
      "metadata": {
        "id": "LIg6Iytjz92X",
        "colab_type": "text"
      },
      "source": [
        "This is my first notebook!\n"
      ]
    },
    {
      "cell_type": "code",
      "metadata": {
        "id": "UQw94R0jzw2J",
        "colab_type": "code",
        "colab": {
          "base_uri": "https://localhost:8080/",
          "height": 34
        },
        "outputId": "8d3c8176-5f3b-4795-9aaf-f9f89e47f951"
      },
      "source": [
        "2+3"
      ],
      "execution_count": 6,
      "outputs": [
        {
          "output_type": "execute_result",
          "data": {
            "text/plain": [
              "5"
            ]
          },
          "metadata": {
            "tags": []
          },
          "execution_count": 6
        }
      ]
    },
    {
      "cell_type": "markdown",
      "metadata": {
        "id": "4PVO4Yla0UYu",
        "colab_type": "text"
      },
      "source": [
        "this is **bold**"
      ]
    },
    {
      "cell_type": "markdown",
      "metadata": {
        "id": "IappC9kA0mJ5",
        "colab_type": "text"
      },
      "source": [
        "### header"
      ]
    },
    {
      "cell_type": "markdown",
      "metadata": {
        "id": "M-8sUiOP4LAW",
        "colab_type": "text"
      },
      "source": [
        "![alt text](https://raw.githubusercontent.com/colentz10/IST210/master/Introduction/ma.jpg)"
      ]
    }
  ]
}