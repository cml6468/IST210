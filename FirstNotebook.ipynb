{
  "nbformat": 4,
  "nbformat_minor": 0,
  "metadata": {
    "colab": {
      "name": "FirstNotebook.ipynb",
      "provenance": [],
      "authorship_tag": "ABX9TyPiOsyQbQG0XaK2lwBX01ov",
      "include_colab_link": true
    },
    "kernelspec": {
      "name": "python3",
      "display_name": "Python 3"
    }
  },
  "cells": [
    {
      "cell_type": "markdown",
      "metadata": {
        "id": "view-in-github",
        "colab_type": "text"
      },
      "source": [
        "<a href=\"https://colab.research.google.com/github/colentz10/IST210/blob/master/FirstNotebook.ipynb\" target=\"_parent\"><img src=\"https://colab.research.google.com/assets/colab-badge.svg\" alt=\"Open In Colab\"/></a>"
      ]
    },
    {
      "cell_type": "markdown",
      "metadata": {
        "id": "Azb_Ry-9FNSe",
        "colab_type": "text"
      },
      "source": [
        "# Name"
      ]
    },
    {
      "cell_type": "markdown",
      "metadata": {
        "id": "LW8MswlkFRjg",
        "colab_type": "text"
      },
      "source": [
        "Hello! My name is Cole Lentz."
      ]
    },
    {
      "cell_type": "markdown",
      "metadata": {
        "id": "pyH_cxqgFVCj",
        "colab_type": "text"
      },
      "source": [
        "# IST Related Interests"
      ]
    },
    {
      "cell_type": "markdown",
      "metadata": {
        "id": "RhZatJa4Ff3E",
        "colab_type": "text"
      },
      "source": [
        "I have always been interested in computers, and how they function. Ever since I was a kid, I have been a big \"tech guy\" and enjoy working wih technology."
      ]
    },
    {
      "cell_type": "markdown",
      "metadata": {
        "id": "bOvK47k3F53A",
        "colab_type": "text"
      },
      "source": [
        "# Future Job/Career"
      ]
    },
    {
      "cell_type": "markdown",
      "metadata": {
        "id": "RDVAH1RFF8AQ",
        "colab_type": "text"
      },
      "source": [
        "I am hoping to graduate with Penn State with a degree in Cybersecurity. I have aspirations to work for the United States government."
      ]
    },
    {
      "cell_type": "markdown",
      "metadata": {
        "id": "sA-eAQImGRli",
        "colab_type": "text"
      },
      "source": [
        "# Picture"
      ]
    },
    {
      "cell_type": "markdown",
      "metadata": {
        "id": "ZjEGYxv0GUW5",
        "colab_type": "text"
      },
      "source": [
        "![alt text](https://raw.githubusercontent.com/colentz10/IST210/master/mom%20and%20pops.jpg)"
      ]
    }
  ]
}